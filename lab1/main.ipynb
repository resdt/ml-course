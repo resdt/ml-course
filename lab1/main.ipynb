{
 "cells": [
  {
   "cell_type": "markdown",
   "id": "d129f558-e266-42cd-8bee-dabfd4c715e7",
   "metadata": {},
   "source": [
    "## Лабораторная работа №1 | Вариант 3"
   ]
  },
  {
   "cell_type": "markdown",
   "id": "913dc303-b443-486f-99ca-aa4a95477077",
   "metadata": {},
   "source": [
    "Выполнил: Ширяев Никита Алексеевич М8О-08Б-22"
   ]
  },
  {
   "cell_type": "markdown",
   "id": "4787625f-194a-45bb-a110-29b85ff5b72a",
   "metadata": {},
   "source": [
    "### 1. Numpy"
   ]
  },
  {
   "cell_type": "code",
   "execution_count": 48,
   "id": "aac6dd5d-af95-49a0-a63c-c2fe87932294",
   "metadata": {},
   "outputs": [],
   "source": [
    "import numpy as np"
   ]
  },
  {
   "cell_type": "markdown",
   "id": "7550f070-1dc5-4c1c-9d50-ee6e7d25c608",
   "metadata": {},
   "source": [
    "1. Создайте массив D размером 4x4, заполненный числами от 1 до 16. Используйте срезы, чтобы извлечь подмассив размером 2x2, начиная с элемента в строке 1 и столбце 1."
   ]
  },
  {
   "cell_type": "code",
   "execution_count": 49,
   "id": "4db667a8-4aec-4d21-846d-621fc8bc8589",
   "metadata": {},
   "outputs": [
    {
     "name": "stdout",
     "output_type": "stream",
     "text": [
      "[[ 1  2  3  4]\n",
      " [ 5  6  7  8]\n",
      " [ 9 10 11 12]\n",
      " [13 14 15 16]]\n",
      "[[1 2]\n",
      " [5 6]]\n",
      "[[ 6  7]\n",
      " [10 11]]\n"
     ]
    }
   ],
   "source": [
    "D = np.arange(1, 17).reshape((4, 4))\n",
    "print(D)\n",
    "print(D[:2, :2], D[1:3, 1:3], sep=\"\\n\")"
   ]
  },
  {
   "cell_type": "markdown",
   "id": "fc8c9a7a-5cca-46fc-9a83-d62799b1047e",
   "metadata": {},
   "source": [
    "2. Создайте трехмерный массив a размером 4x3x2, заполненный случайными числами от 1 до 10. Найдите сумму всех элементов вдоль оси 1."
   ]
  },
  {
   "cell_type": "code",
   "execution_count": 50,
   "id": "c53d0205-e570-4844-8ef4-06608d4fb48e",
   "metadata": {},
   "outputs": [
    {
     "name": "stdout",
     "output_type": "stream",
     "text": [
      "[[[10  6]\n",
      "  [ 7  9]\n",
      "  [ 5  7]]\n",
      "\n",
      " [[ 6  1]\n",
      "  [ 8  4]\n",
      "  [ 2  7]]\n",
      "\n",
      " [[ 8  9]\n",
      "  [10  4]\n",
      "  [ 5  5]]\n",
      "\n",
      " [[ 4  9]\n",
      "  [ 3  3]\n",
      "  [10  5]]]\n"
     ]
    },
    {
     "data": {
      "text/plain": [
       "array([[22, 22],\n",
       "       [16, 12],\n",
       "       [23, 18],\n",
       "       [17, 17]])"
      ]
     },
     "execution_count": 50,
     "metadata": {},
     "output_type": "execute_result"
    }
   ],
   "source": [
    "a = np.random.randint(1, 11, (4, 3, 2))\n",
    "print(a)\n",
    "np.sum(a, axis=1)"
   ]
  },
  {
   "cell_type": "markdown",
   "id": "ef67e787-3442-437d-ad64-6f784267cf79",
   "metadata": {},
   "source": [
    "3. Напишите функцию, которая принимает матрицу и производит нормировку её элементов (т.е. $A'_{ij} = A_{ij} / \\sum_{i} \\sum_{j} A_{ij}$)"
   ]
  },
  {
   "cell_type": "code",
   "execution_count": 51,
   "id": "d93ce1a2-1312-4527-8583-b6ffdc605da0",
   "metadata": {},
   "outputs": [],
   "source": [
    "def normalize_matrix(matrix):\n",
    "    total_sum = np.sum(matrix)\n",
    "    normalized_matrix = matrix / total_sum\n",
    "    return normalized_matrix"
   ]
  },
  {
   "cell_type": "markdown",
   "id": "b188c2e4-3b7a-4606-b295-5e309c6158ef",
   "metadata": {},
   "source": [
    "4. Напишите функцию, которая принимает 3 трехмерных вектора $x, y, z$ и вычисляет объем пирамиды, образованной этими векторами (используйте смешанное произведение векторов)"
   ]
  },
  {
   "cell_type": "code",
   "execution_count": 52,
   "id": "9102b2e8-e846-47f1-b65b-9164179abff6",
   "metadata": {},
   "outputs": [],
   "source": [
    "def pyramid_volume(x, y, z):\n",
    "    cross_product = np.cross(y, z)    \n",
    "    mixed_product = np.dot(x, cross_product)    \n",
    "    V = abs(mixed_product) / 6\n",
    "    return V"
   ]
  },
  {
   "cell_type": "markdown",
   "id": "1d7b8407-f366-4a37-9e5e-b086722a82f8",
   "metadata": {},
   "source": [
    "5. Напишите функцию, которая принимает число N и строит матрицу NxN, с нулями внутри и единицами на границе."
   ]
  },
  {
   "cell_type": "code",
   "execution_count": 53,
   "id": "7bc37720-2f47-4320-90a2-4be2dc4989ae",
   "metadata": {},
   "outputs": [],
   "source": [
    "def build_matrix(N):\n",
    "    matrix = np.zeros((N, N), dtype=int)\n",
    "    matrix[0, :] = 1\n",
    "    matrix[-1, :] = 1\n",
    "    matrix[:, 0] = 1\n",
    "    matrix[:, -1] = 1\n",
    "    return matrix"
   ]
  },
  {
   "cell_type": "markdown",
   "id": "576b7d23-1a46-46fa-92a7-e5f3240544d7",
   "metadata": {},
   "source": [
    "6. Создайте матрицу шахматную доску 8х8 используя функцию `tile`"
   ]
  },
  {
   "cell_type": "code",
   "execution_count": 54,
   "id": "c1e16045-39c5-4006-b0bd-6fe926004e48",
   "metadata": {},
   "outputs": [],
   "source": [
    "def create_chessboard():\n",
    "    base_pattern = np.array([[0, 1], \n",
    "                             [1, 0]])\n",
    "    chessboard = np.tile(base_pattern, (4, 4))\n",
    "    return chessboard"
   ]
  },
  {
   "cell_type": "markdown",
   "id": "a8644cfc-d2e8-442c-896e-bb9421b5dfd8",
   "metadata": {},
   "source": [
    "7. Как найти наиболее близкое значение (к заданному скаляру) в векторе?"
   ]
  },
  {
   "cell_type": "code",
   "execution_count": 55,
   "id": "cd84c92f-81df-4a99-842a-686725012ca0",
   "metadata": {},
   "outputs": [],
   "source": [
    "def find_closest_val(vector, scalar):\n",
    "    diff = np.abs(vector - scalar)\n",
    "    index = np.argmin(diff)\n",
    "    closest_val = vector[index]\n",
    "    return closest_val"
   ]
  },
  {
   "cell_type": "markdown",
   "id": "993713d8-7b54-41f6-9660-914ae9a8c72c",
   "metadata": {},
   "source": [
    "8. Создайте случайный вектор размером 10 и отсортируйте его"
   ]
  },
  {
   "cell_type": "code",
   "execution_count": 56,
   "id": "76ca7ccf-e933-4823-9641-0c4a6fe062c2",
   "metadata": {},
   "outputs": [
    {
     "data": {
      "text/plain": [
       "array([0.40650045, 0.43357688, 0.45837369, 0.5200477 , 0.62725857,\n",
       "       0.69451987, 0.72066125, 0.75925719, 0.83567836, 0.96676423])"
      ]
     },
     "execution_count": 56,
     "metadata": {},
     "output_type": "execute_result"
    }
   ],
   "source": [
    "random_vector = np.random.rand(10)\n",
    "np.sort(random_vector)"
   ]
  },
  {
   "cell_type": "markdown",
   "id": "a1c01801-ef12-421c-816e-22dd27bc77a9",
   "metadata": {},
   "source": [
    "9. Создайте случайный вектор длиной 10 и замените максимальное значение в нем на 0"
   ]
  },
  {
   "cell_type": "code",
   "execution_count": 57,
   "id": "2096db2f-8600-4f85-becc-b659abfc5211",
   "metadata": {},
   "outputs": [
    {
     "name": "stdout",
     "output_type": "stream",
     "text": [
      "[0.16587999 0.03851963 0.25763744 0.56484932 0.37248659 0.36142105\n",
      " 0.24716006 0.0764537  0.9284005  0.17632931]\n"
     ]
    },
    {
     "data": {
      "text/plain": [
       "array([0.16587999, 0.03851963, 0.25763744, 0.56484932, 0.37248659,\n",
       "       0.36142105, 0.24716006, 0.0764537 , 0.        , 0.17632931])"
      ]
     },
     "execution_count": 57,
     "metadata": {},
     "output_type": "execute_result"
    }
   ],
   "source": [
    "random_vector = np.random.rand(10)\n",
    "index = np.argmax(random_vector)\n",
    "print(random_vector)\n",
    "random_vector[index] = 0\n",
    "random_vector"
   ]
  },
  {
   "cell_type": "markdown",
   "id": "e0f76169-6874-4fec-aea2-4046934b69bc",
   "metadata": {},
   "source": [
    "10. Даны 2 массива Х и Y, постройте матрицу Коши $C$ ($C_{ij} = \\frac{1}{x_i - y_j}$)"
   ]
  },
  {
   "cell_type": "code",
   "execution_count": 58,
   "id": "35cb1574-cbdd-4060-9247-defc15a1dff5",
   "metadata": {},
   "outputs": [
    {
     "data": {
      "text/plain": [
       "array([[-0.33333333, -0.25      , -0.2       ],\n",
       "       [-0.5       , -0.33333333, -0.25      ],\n",
       "       [-1.        , -0.5       , -0.33333333]])"
      ]
     },
     "execution_count": 58,
     "metadata": {},
     "output_type": "execute_result"
    }
   ],
   "source": [
    "def cauchy_matrix(X, Y):\n",
    "    C = 1.0 / (X[:, np.newaxis] - Y[np.newaxis, :])\n",
    "    return C\n",
    "\n",
    "X = np.array([1, 2, 3])\n",
    "Y = np.array([4, 5, 6])\n",
    "cauchy_matrix(X, Y)"
   ]
  },
  {
   "cell_type": "markdown",
   "id": "71788cf1-8f66-47d5-a90b-65689f7b836c",
   "metadata": {},
   "source": [
    "### 2. Pandas"
   ]
  },
  {
   "cell_type": "markdown",
   "id": "c3f6b194-83de-45cc-a6da-f1def5de88a7",
   "metadata": {},
   "source": [
    "Представлено 2 датасета в формате CSV.\n",
    "\n",
    "Найдите ответы на вопросы или выполните действия с предложенным датасетом\n",
    "\n",
    "Файлы: `countries.csv`, `covid-country-data.csv`"
   ]
  },
  {
   "cell_type": "code",
   "execution_count": 59,
   "id": "39f2f1ec-760a-429e-b5be-49a3edbeb663",
   "metadata": {},
   "outputs": [],
   "source": [
    "import pandas as pd"
   ]
  },
  {
   "cell_type": "code",
   "execution_count": 60,
   "id": "7e7adb23-8da7-4e18-8339-74b25b58db76",
   "metadata": {},
   "outputs": [],
   "source": [
    "# Load data here"
   ]
  },
  {
   "cell_type": "code",
   "execution_count": 61,
   "id": "c7d3135b-edf7-4e82-bbcb-b920980c79c6",
   "metadata": {},
   "outputs": [],
   "source": [
    "data = pd.read_csv('data/countries.csv')"
   ]
  },
  {
   "cell_type": "code",
   "execution_count": 62,
   "id": "446c38b0-313f-4f19-8be0-a90d17f3d0ab",
   "metadata": {},
   "outputs": [
    {
     "data": {
      "text/html": [
       "<div>\n",
       "<style scoped>\n",
       "    .dataframe tbody tr th:only-of-type {\n",
       "        vertical-align: middle;\n",
       "    }\n",
       "\n",
       "    .dataframe tbody tr th {\n",
       "        vertical-align: top;\n",
       "    }\n",
       "\n",
       "    .dataframe thead th {\n",
       "        text-align: right;\n",
       "    }\n",
       "</style>\n",
       "<table border=\"1\" class=\"dataframe\">\n",
       "  <thead>\n",
       "    <tr style=\"text-align: right;\">\n",
       "      <th></th>\n",
       "      <th>location</th>\n",
       "      <th>continent</th>\n",
       "      <th>population</th>\n",
       "      <th>life_expectancy</th>\n",
       "      <th>hospital_beds_per_thousand</th>\n",
       "      <th>gdp_per_capita</th>\n",
       "    </tr>\n",
       "  </thead>\n",
       "  <tbody>\n",
       "    <tr>\n",
       "      <th>0</th>\n",
       "      <td>Afghanistan</td>\n",
       "      <td>Asia</td>\n",
       "      <td>38928341.0</td>\n",
       "      <td>64.83</td>\n",
       "      <td>0.50</td>\n",
       "      <td>1803.987</td>\n",
       "    </tr>\n",
       "    <tr>\n",
       "      <th>1</th>\n",
       "      <td>Albania</td>\n",
       "      <td>Europe</td>\n",
       "      <td>2877800.0</td>\n",
       "      <td>78.57</td>\n",
       "      <td>2.89</td>\n",
       "      <td>11803.431</td>\n",
       "    </tr>\n",
       "    <tr>\n",
       "      <th>2</th>\n",
       "      <td>Algeria</td>\n",
       "      <td>Africa</td>\n",
       "      <td>43851043.0</td>\n",
       "      <td>76.88</td>\n",
       "      <td>1.90</td>\n",
       "      <td>13913.839</td>\n",
       "    </tr>\n",
       "    <tr>\n",
       "      <th>3</th>\n",
       "      <td>Andorra</td>\n",
       "      <td>Europe</td>\n",
       "      <td>77265.0</td>\n",
       "      <td>83.73</td>\n",
       "      <td>NaN</td>\n",
       "      <td>NaN</td>\n",
       "    </tr>\n",
       "    <tr>\n",
       "      <th>4</th>\n",
       "      <td>Angola</td>\n",
       "      <td>Africa</td>\n",
       "      <td>32866268.0</td>\n",
       "      <td>61.15</td>\n",
       "      <td>NaN</td>\n",
       "      <td>5819.495</td>\n",
       "    </tr>\n",
       "  </tbody>\n",
       "</table>\n",
       "</div>"
      ],
      "text/plain": [
       "      location continent  population  life_expectancy  \\\n",
       "0  Afghanistan      Asia  38928341.0            64.83   \n",
       "1      Albania    Europe   2877800.0            78.57   \n",
       "2      Algeria    Africa  43851043.0            76.88   \n",
       "3      Andorra    Europe     77265.0            83.73   \n",
       "4       Angola    Africa  32866268.0            61.15   \n",
       "\n",
       "   hospital_beds_per_thousand  gdp_per_capita  \n",
       "0                        0.50        1803.987  \n",
       "1                        2.89       11803.431  \n",
       "2                        1.90       13913.839  \n",
       "3                         NaN             NaN  \n",
       "4                         NaN        5819.495  "
      ]
     },
     "execution_count": 62,
     "metadata": {},
     "output_type": "execute_result"
    }
   ],
   "source": [
    "data.head()"
   ]
  },
  {
   "cell_type": "markdown",
   "id": "d7f3d8f5-eb80-4d0e-b448-dfb6b2e5a857",
   "metadata": {},
   "source": [
    "1. Какое общее население планеты, согласно датасету?"
   ]
  },
  {
   "cell_type": "code",
   "execution_count": 63,
   "id": "a37dad90-aec4-42ee-928c-7cbc2381636c",
   "metadata": {},
   "outputs": [
    {
     "data": {
      "text/plain": [
       "np.float64(7757980095.0)"
      ]
     },
     "execution_count": 63,
     "metadata": {},
     "output_type": "execute_result"
    }
   ],
   "source": [
    "data[\"population\"].sum()"
   ]
  },
  {
   "cell_type": "markdown",
   "id": "dcfbb87a-cdcb-46bc-b529-113c4e017cd2",
   "metadata": {
    "jp-MarkdownHeadingCollapsed": true
   },
   "source": [
    "2. Выведите страну с наименьшей продолжительностью жизни"
   ]
  },
  {
   "cell_type": "code",
   "execution_count": 64,
   "id": "0c70b56e-9223-4c50-9d9d-3f620a74aefb",
   "metadata": {},
   "outputs": [
    {
     "data": {
      "text/plain": [
       "38    Central African Republic\n",
       "Name: location, dtype: object"
      ]
     },
     "execution_count": 64,
     "metadata": {},
     "output_type": "execute_result"
    }
   ],
   "source": [
    "data.loc[data[\"life_expectancy\"] == data[\"life_expectancy\"].min(), \"location\"]"
   ]
  },
  {
   "cell_type": "markdown",
   "id": "002491e6-278f-4055-9f6c-bf5fc3e2dd87",
   "metadata": {},
   "source": [
    "3. Выведите страну с наибольшим ВВП на душу населения ('gdp_per_capita')"
   ]
  },
  {
   "cell_type": "code",
   "execution_count": 65,
   "id": "3add9e4d-8643-48ea-a55d-0a13a58cb6f4",
   "metadata": {},
   "outputs": [
    {
     "data": {
      "text/plain": [
       "155    Qatar\n",
       "Name: location, dtype: object"
      ]
     },
     "execution_count": 65,
     "metadata": {},
     "output_type": "execute_result"
    }
   ],
   "source": [
    "data.loc[data[\"gdp_per_capita\"] == data[\"gdp_per_capita\"].max(), \"location\"]"
   ]
  },
  {
   "cell_type": "markdown",
   "id": "113f377e-2620-4103-8c5c-d7247d06b33d",
   "metadata": {},
   "source": [
    "4. Заполните пропуски в 'life_expectancy' медианным значением и посчитайте среднюю продолжительность жизни"
   ]
  },
  {
   "cell_type": "code",
   "execution_count": 66,
   "id": "53b8f975-0df6-45dd-882d-493dcb12c03e",
   "metadata": {},
   "outputs": [
    {
     "data": {
      "text/plain": [
       "np.float64(73.55214285714285)"
      ]
     },
     "execution_count": 66,
     "metadata": {},
     "output_type": "execute_result"
    }
   ],
   "source": [
    "data[\"life_expectancy\"] = data[\"life_expectancy\"].fillna(data[\"life_expectancy\"].median())\n",
    "data[\"life_expectancy\"].mean()"
   ]
  },
  {
   "cell_type": "markdown",
   "id": "24f4f211-f1cf-47ad-9788-6008d786cad1",
   "metadata": {},
   "source": [
    "5. Выведите топ-15 стран по численности населения"
   ]
  },
  {
   "cell_type": "code",
   "execution_count": 67,
   "id": "ef0f7986-8b6b-4e52-9706-dba9a6f2aeca",
   "metadata": {},
   "outputs": [
    {
     "data": {
      "text/html": [
       "<div>\n",
       "<style scoped>\n",
       "    .dataframe tbody tr th:only-of-type {\n",
       "        vertical-align: middle;\n",
       "    }\n",
       "\n",
       "    .dataframe tbody tr th {\n",
       "        vertical-align: top;\n",
       "    }\n",
       "\n",
       "    .dataframe thead th {\n",
       "        text-align: right;\n",
       "    }\n",
       "</style>\n",
       "<table border=\"1\" class=\"dataframe\">\n",
       "  <thead>\n",
       "    <tr style=\"text-align: right;\">\n",
       "      <th></th>\n",
       "      <th>location</th>\n",
       "      <th>continent</th>\n",
       "      <th>population</th>\n",
       "      <th>life_expectancy</th>\n",
       "      <th>hospital_beds_per_thousand</th>\n",
       "      <th>gdp_per_capita</th>\n",
       "    </tr>\n",
       "  </thead>\n",
       "  <tbody>\n",
       "    <tr>\n",
       "      <th>41</th>\n",
       "      <td>China</td>\n",
       "      <td>Asia</td>\n",
       "      <td>1.439324e+09</td>\n",
       "      <td>76.91</td>\n",
       "      <td>4.34</td>\n",
       "      <td>15308.712</td>\n",
       "    </tr>\n",
       "    <tr>\n",
       "      <th>90</th>\n",
       "      <td>India</td>\n",
       "      <td>Asia</td>\n",
       "      <td>1.380004e+09</td>\n",
       "      <td>69.66</td>\n",
       "      <td>0.53</td>\n",
       "      <td>6426.674</td>\n",
       "    </tr>\n",
       "    <tr>\n",
       "      <th>199</th>\n",
       "      <td>United States</td>\n",
       "      <td>North America</td>\n",
       "      <td>3.310026e+08</td>\n",
       "      <td>78.86</td>\n",
       "      <td>2.77</td>\n",
       "      <td>54225.446</td>\n",
       "    </tr>\n",
       "    <tr>\n",
       "      <th>91</th>\n",
       "      <td>Indonesia</td>\n",
       "      <td>Asia</td>\n",
       "      <td>2.735236e+08</td>\n",
       "      <td>71.72</td>\n",
       "      <td>1.04</td>\n",
       "      <td>11188.744</td>\n",
       "    </tr>\n",
       "    <tr>\n",
       "      <th>145</th>\n",
       "      <td>Pakistan</td>\n",
       "      <td>Asia</td>\n",
       "      <td>2.208923e+08</td>\n",
       "      <td>67.27</td>\n",
       "      <td>0.60</td>\n",
       "      <td>5034.708</td>\n",
       "    </tr>\n",
       "    <tr>\n",
       "      <th>27</th>\n",
       "      <td>Brazil</td>\n",
       "      <td>South America</td>\n",
       "      <td>2.125594e+08</td>\n",
       "      <td>75.88</td>\n",
       "      <td>2.20</td>\n",
       "      <td>14103.452</td>\n",
       "    </tr>\n",
       "    <tr>\n",
       "      <th>141</th>\n",
       "      <td>Nigeria</td>\n",
       "      <td>Africa</td>\n",
       "      <td>2.061396e+08</td>\n",
       "      <td>54.69</td>\n",
       "      <td>NaN</td>\n",
       "      <td>5338.454</td>\n",
       "    </tr>\n",
       "    <tr>\n",
       "      <th>15</th>\n",
       "      <td>Bangladesh</td>\n",
       "      <td>Asia</td>\n",
       "      <td>1.646894e+08</td>\n",
       "      <td>72.59</td>\n",
       "      <td>0.80</td>\n",
       "      <td>3523.984</td>\n",
       "    </tr>\n",
       "    <tr>\n",
       "      <th>157</th>\n",
       "      <td>Russia</td>\n",
       "      <td>Europe</td>\n",
       "      <td>1.459345e+08</td>\n",
       "      <td>72.58</td>\n",
       "      <td>8.05</td>\n",
       "      <td>24765.954</td>\n",
       "    </tr>\n",
       "    <tr>\n",
       "      <th>125</th>\n",
       "      <td>Mexico</td>\n",
       "      <td>North America</td>\n",
       "      <td>1.289328e+08</td>\n",
       "      <td>75.05</td>\n",
       "      <td>1.38</td>\n",
       "      <td>17336.469</td>\n",
       "    </tr>\n",
       "    <tr>\n",
       "      <th>99</th>\n",
       "      <td>Japan</td>\n",
       "      <td>Asia</td>\n",
       "      <td>1.264765e+08</td>\n",
       "      <td>84.63</td>\n",
       "      <td>13.05</td>\n",
       "      <td>39002.223</td>\n",
       "    </tr>\n",
       "    <tr>\n",
       "      <th>63</th>\n",
       "      <td>Ethiopia</td>\n",
       "      <td>Africa</td>\n",
       "      <td>1.149636e+08</td>\n",
       "      <td>66.60</td>\n",
       "      <td>0.30</td>\n",
       "      <td>1729.927</td>\n",
       "    </tr>\n",
       "    <tr>\n",
       "      <th>151</th>\n",
       "      <td>Philippines</td>\n",
       "      <td>Asia</td>\n",
       "      <td>1.095811e+08</td>\n",
       "      <td>71.23</td>\n",
       "      <td>1.00</td>\n",
       "      <td>7599.188</td>\n",
       "    </tr>\n",
       "    <tr>\n",
       "      <th>58</th>\n",
       "      <td>Egypt</td>\n",
       "      <td>Africa</td>\n",
       "      <td>1.023344e+08</td>\n",
       "      <td>71.99</td>\n",
       "      <td>1.60</td>\n",
       "      <td>10550.206</td>\n",
       "    </tr>\n",
       "    <tr>\n",
       "      <th>205</th>\n",
       "      <td>Vietnam</td>\n",
       "      <td>Asia</td>\n",
       "      <td>9.733858e+07</td>\n",
       "      <td>75.40</td>\n",
       "      <td>2.60</td>\n",
       "      <td>6171.884</td>\n",
       "    </tr>\n",
       "  </tbody>\n",
       "</table>\n",
       "</div>"
      ],
      "text/plain": [
       "          location      continent    population  life_expectancy  \\\n",
       "41           China           Asia  1.439324e+09            76.91   \n",
       "90           India           Asia  1.380004e+09            69.66   \n",
       "199  United States  North America  3.310026e+08            78.86   \n",
       "91       Indonesia           Asia  2.735236e+08            71.72   \n",
       "145       Pakistan           Asia  2.208923e+08            67.27   \n",
       "27          Brazil  South America  2.125594e+08            75.88   \n",
       "141        Nigeria         Africa  2.061396e+08            54.69   \n",
       "15      Bangladesh           Asia  1.646894e+08            72.59   \n",
       "157         Russia         Europe  1.459345e+08            72.58   \n",
       "125         Mexico  North America  1.289328e+08            75.05   \n",
       "99           Japan           Asia  1.264765e+08            84.63   \n",
       "63        Ethiopia         Africa  1.149636e+08            66.60   \n",
       "151    Philippines           Asia  1.095811e+08            71.23   \n",
       "58           Egypt         Africa  1.023344e+08            71.99   \n",
       "205        Vietnam           Asia  9.733858e+07            75.40   \n",
       "\n",
       "     hospital_beds_per_thousand  gdp_per_capita  \n",
       "41                         4.34       15308.712  \n",
       "90                         0.53        6426.674  \n",
       "199                        2.77       54225.446  \n",
       "91                         1.04       11188.744  \n",
       "145                        0.60        5034.708  \n",
       "27                         2.20       14103.452  \n",
       "141                         NaN        5338.454  \n",
       "15                         0.80        3523.984  \n",
       "157                        8.05       24765.954  \n",
       "125                        1.38       17336.469  \n",
       "99                        13.05       39002.223  \n",
       "63                         0.30        1729.927  \n",
       "151                        1.00        7599.188  \n",
       "58                         1.60       10550.206  \n",
       "205                        2.60        6171.884  "
      ]
     },
     "execution_count": 67,
     "metadata": {},
     "output_type": "execute_result"
    }
   ],
   "source": [
    "data.sort_values(by=\"population\", ascending=False).head(15)"
   ]
  },
  {
   "cell_type": "markdown",
   "id": "2a33ea01-5108-4cbd-be23-f1090dbd6dc6",
   "metadata": {},
   "source": [
    "6. Среди стран, входящих в топ-25 по ВВП на душу населения (gdp_per_capita) выведите 5 стран с наименьшим населением"
   ]
  },
  {
   "cell_type": "code",
   "execution_count": 68,
   "id": "fff4add1-5f3f-4dc3-9b3f-b27ff336cf67",
   "metadata": {},
   "outputs": [
    {
     "data": {
      "text/html": [
       "<div>\n",
       "<style scoped>\n",
       "    .dataframe tbody tr th:only-of-type {\n",
       "        vertical-align: middle;\n",
       "    }\n",
       "\n",
       "    .dataframe tbody tr th {\n",
       "        vertical-align: top;\n",
       "    }\n",
       "\n",
       "    .dataframe thead th {\n",
       "        text-align: right;\n",
       "    }\n",
       "</style>\n",
       "<table border=\"1\" class=\"dataframe\">\n",
       "  <thead>\n",
       "    <tr style=\"text-align: right;\">\n",
       "      <th></th>\n",
       "      <th>location</th>\n",
       "      <th>continent</th>\n",
       "      <th>population</th>\n",
       "      <th>life_expectancy</th>\n",
       "      <th>hospital_beds_per_thousand</th>\n",
       "      <th>gdp_per_capita</th>\n",
       "    </tr>\n",
       "  </thead>\n",
       "  <tbody>\n",
       "    <tr>\n",
       "      <th>162</th>\n",
       "      <td>San Marino</td>\n",
       "      <td>Europe</td>\n",
       "      <td>33938.0</td>\n",
       "      <td>84.97</td>\n",
       "      <td>3.80</td>\n",
       "      <td>56861.470</td>\n",
       "    </tr>\n",
       "    <tr>\n",
       "      <th>21</th>\n",
       "      <td>Bermuda</td>\n",
       "      <td>North America</td>\n",
       "      <td>62273.0</td>\n",
       "      <td>82.59</td>\n",
       "      <td>NaN</td>\n",
       "      <td>50669.315</td>\n",
       "    </tr>\n",
       "    <tr>\n",
       "      <th>37</th>\n",
       "      <td>Cayman Islands</td>\n",
       "      <td>North America</td>\n",
       "      <td>65720.0</td>\n",
       "      <td>83.92</td>\n",
       "      <td>NaN</td>\n",
       "      <td>49903.029</td>\n",
       "    </tr>\n",
       "    <tr>\n",
       "      <th>89</th>\n",
       "      <td>Iceland</td>\n",
       "      <td>Europe</td>\n",
       "      <td>341250.0</td>\n",
       "      <td>82.99</td>\n",
       "      <td>2.91</td>\n",
       "      <td>46482.958</td>\n",
       "    </tr>\n",
       "    <tr>\n",
       "      <th>29</th>\n",
       "      <td>Brunei</td>\n",
       "      <td>Asia</td>\n",
       "      <td>437483.0</td>\n",
       "      <td>75.86</td>\n",
       "      <td>2.70</td>\n",
       "      <td>71809.251</td>\n",
       "    </tr>\n",
       "  </tbody>\n",
       "</table>\n",
       "</div>"
      ],
      "text/plain": [
       "           location      continent  population  life_expectancy  \\\n",
       "162      San Marino         Europe     33938.0            84.97   \n",
       "21          Bermuda  North America     62273.0            82.59   \n",
       "37   Cayman Islands  North America     65720.0            83.92   \n",
       "89          Iceland         Europe    341250.0            82.99   \n",
       "29           Brunei           Asia    437483.0            75.86   \n",
       "\n",
       "     hospital_beds_per_thousand  gdp_per_capita  \n",
       "162                        3.80       56861.470  \n",
       "21                          NaN       50669.315  \n",
       "37                          NaN       49903.029  \n",
       "89                         2.91       46482.958  \n",
       "29                         2.70       71809.251  "
      ]
     },
     "execution_count": 68,
     "metadata": {},
     "output_type": "execute_result"
    }
   ],
   "source": [
    "data.sort_values(by=\"gdp_per_capita\", ascending=False).head(25).sort_values(by=\"population\").head()"
   ]
  },
  {
   "cell_type": "markdown",
   "id": "a8a1ec71-2d64-46d6-baf1-d9dde6c2c141",
   "metadata": {},
   "source": [
    "7. Соедините таблицы covid-country-data и countries"
   ]
  },
  {
   "cell_type": "code",
   "execution_count": 69,
   "id": "68176e4a-d971-4728-89e2-ffeab4662466",
   "metadata": {},
   "outputs": [
    {
     "data": {
      "text/html": [
       "<div>\n",
       "<style scoped>\n",
       "    .dataframe tbody tr th:only-of-type {\n",
       "        vertical-align: middle;\n",
       "    }\n",
       "\n",
       "    .dataframe tbody tr th {\n",
       "        vertical-align: top;\n",
       "    }\n",
       "\n",
       "    .dataframe thead th {\n",
       "        text-align: right;\n",
       "    }\n",
       "</style>\n",
       "<table border=\"1\" class=\"dataframe\">\n",
       "  <thead>\n",
       "    <tr style=\"text-align: right;\">\n",
       "      <th></th>\n",
       "      <th>location</th>\n",
       "      <th>continent</th>\n",
       "      <th>population</th>\n",
       "      <th>life_expectancy</th>\n",
       "      <th>hospital_beds_per_thousand</th>\n",
       "      <th>gdp_per_capita</th>\n",
       "      <th>total_cases</th>\n",
       "      <th>total_deaths</th>\n",
       "      <th>total_tests</th>\n",
       "    </tr>\n",
       "  </thead>\n",
       "  <tbody>\n",
       "    <tr>\n",
       "      <th>0</th>\n",
       "      <td>Afghanistan</td>\n",
       "      <td>Asia</td>\n",
       "      <td>38928341.0</td>\n",
       "      <td>64.83</td>\n",
       "      <td>0.50</td>\n",
       "      <td>1803.987</td>\n",
       "      <td>38243.0</td>\n",
       "      <td>1409.0</td>\n",
       "      <td>NaN</td>\n",
       "    </tr>\n",
       "    <tr>\n",
       "      <th>1</th>\n",
       "      <td>Albania</td>\n",
       "      <td>Europe</td>\n",
       "      <td>2877800.0</td>\n",
       "      <td>78.57</td>\n",
       "      <td>2.89</td>\n",
       "      <td>11803.431</td>\n",
       "      <td>9728.0</td>\n",
       "      <td>296.0</td>\n",
       "      <td>NaN</td>\n",
       "    </tr>\n",
       "    <tr>\n",
       "      <th>2</th>\n",
       "      <td>Algeria</td>\n",
       "      <td>Africa</td>\n",
       "      <td>43851043.0</td>\n",
       "      <td>76.88</td>\n",
       "      <td>1.90</td>\n",
       "      <td>13913.839</td>\n",
       "      <td>45158.0</td>\n",
       "      <td>1525.0</td>\n",
       "      <td>NaN</td>\n",
       "    </tr>\n",
       "    <tr>\n",
       "      <th>3</th>\n",
       "      <td>Andorra</td>\n",
       "      <td>Europe</td>\n",
       "      <td>77265.0</td>\n",
       "      <td>83.73</td>\n",
       "      <td>NaN</td>\n",
       "      <td>NaN</td>\n",
       "      <td>1199.0</td>\n",
       "      <td>53.0</td>\n",
       "      <td>NaN</td>\n",
       "    </tr>\n",
       "    <tr>\n",
       "      <th>4</th>\n",
       "      <td>Angola</td>\n",
       "      <td>Africa</td>\n",
       "      <td>32866268.0</td>\n",
       "      <td>61.15</td>\n",
       "      <td>NaN</td>\n",
       "      <td>5819.495</td>\n",
       "      <td>2729.0</td>\n",
       "      <td>109.0</td>\n",
       "      <td>NaN</td>\n",
       "    </tr>\n",
       "    <tr>\n",
       "      <th>...</th>\n",
       "      <td>...</td>\n",
       "      <td>...</td>\n",
       "      <td>...</td>\n",
       "      <td>...</td>\n",
       "      <td>...</td>\n",
       "      <td>...</td>\n",
       "      <td>...</td>\n",
       "      <td>...</td>\n",
       "      <td>...</td>\n",
       "    </tr>\n",
       "    <tr>\n",
       "      <th>205</th>\n",
       "      <td>Vietnam</td>\n",
       "      <td>Asia</td>\n",
       "      <td>97338583.0</td>\n",
       "      <td>75.40</td>\n",
       "      <td>2.60</td>\n",
       "      <td>6171.884</td>\n",
       "      <td>1046.0</td>\n",
       "      <td>35.0</td>\n",
       "      <td>261004.0</td>\n",
       "    </tr>\n",
       "    <tr>\n",
       "      <th>206</th>\n",
       "      <td>Western Sahara</td>\n",
       "      <td>Africa</td>\n",
       "      <td>597330.0</td>\n",
       "      <td>70.26</td>\n",
       "      <td>NaN</td>\n",
       "      <td>NaN</td>\n",
       "      <td>766.0</td>\n",
       "      <td>1.0</td>\n",
       "      <td>NaN</td>\n",
       "    </tr>\n",
       "    <tr>\n",
       "      <th>207</th>\n",
       "      <td>Yemen</td>\n",
       "      <td>Asia</td>\n",
       "      <td>29825968.0</td>\n",
       "      <td>66.12</td>\n",
       "      <td>0.70</td>\n",
       "      <td>1479.147</td>\n",
       "      <td>1976.0</td>\n",
       "      <td>571.0</td>\n",
       "      <td>NaN</td>\n",
       "    </tr>\n",
       "    <tr>\n",
       "      <th>208</th>\n",
       "      <td>Zambia</td>\n",
       "      <td>Africa</td>\n",
       "      <td>18383956.0</td>\n",
       "      <td>63.89</td>\n",
       "      <td>2.00</td>\n",
       "      <td>3689.251</td>\n",
       "      <td>12415.0</td>\n",
       "      <td>292.0</td>\n",
       "      <td>NaN</td>\n",
       "    </tr>\n",
       "    <tr>\n",
       "      <th>209</th>\n",
       "      <td>Zimbabwe</td>\n",
       "      <td>Africa</td>\n",
       "      <td>14862927.0</td>\n",
       "      <td>61.49</td>\n",
       "      <td>1.70</td>\n",
       "      <td>1899.775</td>\n",
       "      <td>6638.0</td>\n",
       "      <td>206.0</td>\n",
       "      <td>97272.0</td>\n",
       "    </tr>\n",
       "  </tbody>\n",
       "</table>\n",
       "<p>210 rows × 9 columns</p>\n",
       "</div>"
      ],
      "text/plain": [
       "           location continent  population  life_expectancy  \\\n",
       "0       Afghanistan      Asia  38928341.0            64.83   \n",
       "1           Albania    Europe   2877800.0            78.57   \n",
       "2           Algeria    Africa  43851043.0            76.88   \n",
       "3           Andorra    Europe     77265.0            83.73   \n",
       "4            Angola    Africa  32866268.0            61.15   \n",
       "..              ...       ...         ...              ...   \n",
       "205         Vietnam      Asia  97338583.0            75.40   \n",
       "206  Western Sahara    Africa    597330.0            70.26   \n",
       "207           Yemen      Asia  29825968.0            66.12   \n",
       "208          Zambia    Africa  18383956.0            63.89   \n",
       "209        Zimbabwe    Africa  14862927.0            61.49   \n",
       "\n",
       "     hospital_beds_per_thousand  gdp_per_capita  total_cases  total_deaths  \\\n",
       "0                          0.50        1803.987      38243.0        1409.0   \n",
       "1                          2.89       11803.431       9728.0         296.0   \n",
       "2                          1.90       13913.839      45158.0        1525.0   \n",
       "3                           NaN             NaN       1199.0          53.0   \n",
       "4                           NaN        5819.495       2729.0         109.0   \n",
       "..                          ...             ...          ...           ...   \n",
       "205                        2.60        6171.884       1046.0          35.0   \n",
       "206                         NaN             NaN        766.0           1.0   \n",
       "207                        0.70        1479.147       1976.0         571.0   \n",
       "208                        2.00        3689.251      12415.0         292.0   \n",
       "209                        1.70        1899.775       6638.0         206.0   \n",
       "\n",
       "     total_tests  \n",
       "0            NaN  \n",
       "1            NaN  \n",
       "2            NaN  \n",
       "3            NaN  \n",
       "4            NaN  \n",
       "..           ...  \n",
       "205     261004.0  \n",
       "206          NaN  \n",
       "207          NaN  \n",
       "208          NaN  \n",
       "209      97272.0  \n",
       "\n",
       "[210 rows x 9 columns]"
      ]
     },
     "execution_count": 69,
     "metadata": {},
     "output_type": "execute_result"
    }
   ],
   "source": [
    "df_covid = pd.read_csv(\"data/covid-country-data.csv\")\n",
    "data.merge(df_covid, left_on=\"location\", right_on=\"location\", how=\"left\")"
   ]
  },
  {
   "cell_type": "markdown",
   "id": "d63c4360-d6d6-4b19-8866-357831d19562",
   "metadata": {},
   "source": [
    "8. Добавьте для всех стран добавьте колонку, в которой была бы отражена смертность на 1 млн человек населения (пропуски заполните средним значением)"
   ]
  },
  {
   "cell_type": "code",
   "execution_count": 70,
   "id": "f4f5e8db-27c2-4397-831d-c2ba679b0f3c",
   "metadata": {},
   "outputs": [
    {
     "data": {
      "text/html": [
       "<div>\n",
       "<style scoped>\n",
       "    .dataframe tbody tr th:only-of-type {\n",
       "        vertical-align: middle;\n",
       "    }\n",
       "\n",
       "    .dataframe tbody tr th {\n",
       "        vertical-align: top;\n",
       "    }\n",
       "\n",
       "    .dataframe thead th {\n",
       "        text-align: right;\n",
       "    }\n",
       "</style>\n",
       "<table border=\"1\" class=\"dataframe\">\n",
       "  <thead>\n",
       "    <tr style=\"text-align: right;\">\n",
       "      <th></th>\n",
       "      <th>location</th>\n",
       "      <th>continent</th>\n",
       "      <th>population</th>\n",
       "      <th>life_expectancy</th>\n",
       "      <th>hospital_beds_per_thousand</th>\n",
       "      <th>gdp_per_capita</th>\n",
       "      <th>total_cases</th>\n",
       "      <th>total_deaths</th>\n",
       "      <th>total_tests</th>\n",
       "      <th>polnaya_fignya</th>\n",
       "    </tr>\n",
       "  </thead>\n",
       "  <tbody>\n",
       "    <tr>\n",
       "      <th>0</th>\n",
       "      <td>Afghanistan</td>\n",
       "      <td>Asia</td>\n",
       "      <td>38928341.0</td>\n",
       "      <td>64.83</td>\n",
       "      <td>0.50</td>\n",
       "      <td>1803.987</td>\n",
       "      <td>38243.0</td>\n",
       "      <td>1409.0</td>\n",
       "      <td>NaN</td>\n",
       "      <td>36.194710</td>\n",
       "    </tr>\n",
       "    <tr>\n",
       "      <th>1</th>\n",
       "      <td>Albania</td>\n",
       "      <td>Europe</td>\n",
       "      <td>2877800.0</td>\n",
       "      <td>78.57</td>\n",
       "      <td>2.89</td>\n",
       "      <td>11803.431</td>\n",
       "      <td>9728.0</td>\n",
       "      <td>296.0</td>\n",
       "      <td>NaN</td>\n",
       "      <td>102.856349</td>\n",
       "    </tr>\n",
       "    <tr>\n",
       "      <th>2</th>\n",
       "      <td>Algeria</td>\n",
       "      <td>Africa</td>\n",
       "      <td>43851043.0</td>\n",
       "      <td>76.88</td>\n",
       "      <td>1.90</td>\n",
       "      <td>13913.839</td>\n",
       "      <td>45158.0</td>\n",
       "      <td>1525.0</td>\n",
       "      <td>NaN</td>\n",
       "      <td>34.776824</td>\n",
       "    </tr>\n",
       "    <tr>\n",
       "      <th>3</th>\n",
       "      <td>Andorra</td>\n",
       "      <td>Europe</td>\n",
       "      <td>77265.0</td>\n",
       "      <td>83.73</td>\n",
       "      <td>NaN</td>\n",
       "      <td>NaN</td>\n",
       "      <td>1199.0</td>\n",
       "      <td>53.0</td>\n",
       "      <td>NaN</td>\n",
       "      <td>685.950948</td>\n",
       "    </tr>\n",
       "    <tr>\n",
       "      <th>4</th>\n",
       "      <td>Angola</td>\n",
       "      <td>Africa</td>\n",
       "      <td>32866268.0</td>\n",
       "      <td>61.15</td>\n",
       "      <td>NaN</td>\n",
       "      <td>5819.495</td>\n",
       "      <td>2729.0</td>\n",
       "      <td>109.0</td>\n",
       "      <td>NaN</td>\n",
       "      <td>3.316470</td>\n",
       "    </tr>\n",
       "  </tbody>\n",
       "</table>\n",
       "</div>"
      ],
      "text/plain": [
       "      location continent  population  life_expectancy  \\\n",
       "0  Afghanistan      Asia  38928341.0            64.83   \n",
       "1      Albania    Europe   2877800.0            78.57   \n",
       "2      Algeria    Africa  43851043.0            76.88   \n",
       "3      Andorra    Europe     77265.0            83.73   \n",
       "4       Angola    Africa  32866268.0            61.15   \n",
       "\n",
       "   hospital_beds_per_thousand  gdp_per_capita  total_cases  total_deaths  \\\n",
       "0                        0.50        1803.987      38243.0        1409.0   \n",
       "1                        2.89       11803.431       9728.0         296.0   \n",
       "2                        1.90       13913.839      45158.0        1525.0   \n",
       "3                         NaN             NaN       1199.0          53.0   \n",
       "4                         NaN        5819.495       2729.0         109.0   \n",
       "\n",
       "   total_tests  polnaya_fignya  \n",
       "0          NaN       36.194710  \n",
       "1          NaN      102.856349  \n",
       "2          NaN       34.776824  \n",
       "3          NaN      685.950948  \n",
       "4          NaN        3.316470  "
      ]
     },
     "execution_count": 70,
     "metadata": {},
     "output_type": "execute_result"
    }
   ],
   "source": [
    "df_normal = data.merge(df_covid, left_on=\"location\", right_on=\"location\", how=\"left\")\n",
    "df_normal[\"total_deaths\"] = df_normal[\"total_deaths\"].fillna(df_normal[\"total_deaths\"].mean())\n",
    "df_normal[\"polnaya_fignya\"] = 10**6 * df_normal[\"total_deaths\"] / df_normal[\"population\"]\n",
    "df_normal.head()"
   ]
  },
  {
   "cell_type": "code",
   "execution_count": 71,
   "id": "8b28b1fc-868f-4990-b62c-9181327cf7df",
   "metadata": {},
   "outputs": [],
   "source": [
    "covid_data = pd.read_csv('data/covid-country-data.csv')"
   ]
  },
  {
   "cell_type": "code",
   "execution_count": 72,
   "id": "db39f2c6-a84d-4d59-9a70-92f04db9ef73",
   "metadata": {},
   "outputs": [
    {
     "data": {
      "text/html": [
       "<div>\n",
       "<style scoped>\n",
       "    .dataframe tbody tr th:only-of-type {\n",
       "        vertical-align: middle;\n",
       "    }\n",
       "\n",
       "    .dataframe tbody tr th {\n",
       "        vertical-align: top;\n",
       "    }\n",
       "\n",
       "    .dataframe thead th {\n",
       "        text-align: right;\n",
       "    }\n",
       "</style>\n",
       "<table border=\"1\" class=\"dataframe\">\n",
       "  <thead>\n",
       "    <tr style=\"text-align: right;\">\n",
       "      <th></th>\n",
       "      <th>location</th>\n",
       "      <th>total_cases</th>\n",
       "      <th>total_deaths</th>\n",
       "      <th>total_tests</th>\n",
       "    </tr>\n",
       "  </thead>\n",
       "  <tbody>\n",
       "    <tr>\n",
       "      <th>0</th>\n",
       "      <td>Afghanistan</td>\n",
       "      <td>38243.0</td>\n",
       "      <td>1409.0</td>\n",
       "      <td>NaN</td>\n",
       "    </tr>\n",
       "    <tr>\n",
       "      <th>1</th>\n",
       "      <td>Albania</td>\n",
       "      <td>9728.0</td>\n",
       "      <td>296.0</td>\n",
       "      <td>NaN</td>\n",
       "    </tr>\n",
       "    <tr>\n",
       "      <th>2</th>\n",
       "      <td>Algeria</td>\n",
       "      <td>45158.0</td>\n",
       "      <td>1525.0</td>\n",
       "      <td>NaN</td>\n",
       "    </tr>\n",
       "    <tr>\n",
       "      <th>3</th>\n",
       "      <td>Andorra</td>\n",
       "      <td>1199.0</td>\n",
       "      <td>53.0</td>\n",
       "      <td>NaN</td>\n",
       "    </tr>\n",
       "    <tr>\n",
       "      <th>4</th>\n",
       "      <td>Angola</td>\n",
       "      <td>2729.0</td>\n",
       "      <td>109.0</td>\n",
       "      <td>NaN</td>\n",
       "    </tr>\n",
       "  </tbody>\n",
       "</table>\n",
       "</div>"
      ],
      "text/plain": [
       "      location  total_cases  total_deaths  total_tests\n",
       "0  Afghanistan      38243.0        1409.0          NaN\n",
       "1      Albania       9728.0         296.0          NaN\n",
       "2      Algeria      45158.0        1525.0          NaN\n",
       "3      Andorra       1199.0          53.0          NaN\n",
       "4       Angola       2729.0         109.0          NaN"
      ]
     },
     "execution_count": 72,
     "metadata": {},
     "output_type": "execute_result"
    }
   ],
   "source": [
    "covid_data.head()"
   ]
  },
  {
   "cell_type": "markdown",
   "id": "ca5c7aa7-87e3-4910-b210-e80f22d5624e",
   "metadata": {},
   "source": [
    "### 3. Визуализация"
   ]
  },
  {
   "cell_type": "markdown",
   "id": "0ef1d009-614d-4e27-8d24-bf51ac3caba9",
   "metadata": {},
   "source": [
    "Используя библиотеки matplotlib/sns/plotly/pandas и набор данных представленный ранее визуализируйте"
   ]
  },
  {
   "cell_type": "markdown",
   "id": "e4d55de3-11af-4428-84c2-e5bf7e191841",
   "metadata": {},
   "source": [
    "1. Сделайте круговую диаграмму, на которой были бы отражено число заболеваний COVID-19 по континентам"
   ]
  },
  {
   "cell_type": "code",
   "execution_count": null,
   "id": "699fa499-2d99-45d7-a776-489263d42247",
   "metadata": {},
   "outputs": [],
   "source": []
  },
  {
   "cell_type": "markdown",
   "id": "73139dab-2ff9-4ad0-aa1a-39e216b38a88",
   "metadata": {},
   "source": [
    "2. Постройте диаграмму, на которой в порядке убывания были бы отмечены число тестов на COVID-19 в России, Китае, США, Индии и Нигерии"
   ]
  },
  {
   "cell_type": "code",
   "execution_count": null,
   "id": "f392f906-169b-4be8-ae79-1dee4b9318c6",
   "metadata": {},
   "outputs": [],
   "source": []
  },
  {
   "cell_type": "markdown",
   "id": "f4312ba5-24e9-4ba1-8b83-47f2e6adc0b3",
   "metadata": {},
   "source": [
    "3. Визуализируйте зависимость ВВП страны и случаев заболевания COVID-19"
   ]
  },
  {
   "cell_type": "code",
   "execution_count": null,
   "id": "2e24856a-a2b9-4856-9ba8-f976eb64f15d",
   "metadata": {},
   "outputs": [],
   "source": []
  },
  {
   "cell_type": "markdown",
   "id": "3cf72686-0c04-4d4d-a6a5-19ba44cd904c",
   "metadata": {},
   "source": [
    "4. Постройте гистограмму распределения количества смертей на один миллион человек"
   ]
  },
  {
   "cell_type": "code",
   "execution_count": null,
   "id": "097ecabb-afc7-4c5d-b6f9-af3fc70a3c7a",
   "metadata": {},
   "outputs": [],
   "source": []
  },
  {
   "cell_type": "markdown",
   "id": "62d2a839-dce0-4299-b9ac-ce21bed98e49",
   "metadata": {},
   "source": [
    "5. Постройте диаграмму отображающую среднюю продолжительность жизни в разных странах европы"
   ]
  },
  {
   "cell_type": "code",
   "execution_count": null,
   "id": "d00edc40-027b-4e0f-b627-7e4b246419da",
   "metadata": {},
   "outputs": [],
   "source": []
  },
  {
   "cell_type": "markdown",
   "id": "c7ff8158-9942-4cfc-9fa3-650c052136fb",
   "metadata": {},
   "source": [
    "6. Сравните распределения кол-ва смертей на 1000 человек в Европе и Африке"
   ]
  },
  {
   "cell_type": "code",
   "execution_count": null,
   "id": "4d583213-486c-4927-b568-fc9e08c7de5c",
   "metadata": {},
   "outputs": [],
   "source": []
  },
  {
   "cell_type": "code",
   "execution_count": null,
   "id": "bb1f2140-b264-4db7-a4a9-78866b2b05ac",
   "metadata": {},
   "outputs": [],
   "source": []
  },
  {
   "cell_type": "code",
   "execution_count": 73,
   "id": "6e325864-cf46-41c0-a3fe-b6b3edec5f7d",
   "metadata": {},
   "outputs": [
    {
     "data": {
      "text/plain": [
       "array([[1, 1, 1, 1],\n",
       "       [1, 0, 0, 1],\n",
       "       [1, 0, 0, 1],\n",
       "       [1, 1, 1, 1]])"
      ]
     },
     "execution_count": 73,
     "metadata": {},
     "output_type": "execute_result"
    }
   ],
   "source": [
    "a = np.array([[1, 1, 1, 1],\n",
    "[1, 0, 0, 1],\n",
    "[1, 0, 0, 1],\n",
    "[1, 1, 1, 1]])\n",
    "a"
   ]
  },
  {
   "cell_type": "code",
   "execution_count": null,
   "id": "8b0ed4d0-4a8d-456c-9c90-aa0fd197d0b6",
   "metadata": {},
   "outputs": [],
   "source": []
  }
 ],
 "metadata": {
  "kernelspec": {
   "display_name": "Python 3 (ipykernel)",
   "language": "python",
   "name": "python3"
  },
  "language_info": {
   "codemirror_mode": {
    "name": "ipython",
    "version": 3
   },
   "file_extension": ".py",
   "mimetype": "text/x-python",
   "name": "python",
   "nbconvert_exporter": "python",
   "pygments_lexer": "ipython3",
   "version": "3.12.1"
  }
 },
 "nbformat": 4,
 "nbformat_minor": 5
}
